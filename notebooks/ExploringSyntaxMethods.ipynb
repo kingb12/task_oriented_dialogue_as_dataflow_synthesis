{
 "cells": [
  {
   "cell_type": "markdown",
   "id": "10598783",
   "metadata": {},
   "source": [
    "# Exploring the SMCalFlow Syntax\n",
    "\n",
    "Exploring syntax and supported methods"
   ]
  },
  {
   "cell_type": "code",
   "execution_count": 1,
   "id": "b4021085",
   "metadata": {},
   "outputs": [],
   "source": [
    "from dataflow.core.lispress import *\n",
    "from dataflow.core.linearize import *\n",
    "from typeguard import check_type\n",
    "import json\n",
    "from pprint import pprint\n",
    "from onmt.bin.translate import translate\n",
    "import subprocess"
   ]
  },
  {
   "cell_type": "markdown",
   "id": "bcccfc0a",
   "metadata": {},
   "source": [
    "### `parse_lispress` converts a string into a Lispress object, which is a nested list-of-lists with `str`s as leaves."
   ]
  },
  {
   "cell_type": "code",
   "execution_count": 2,
   "id": "caa00497",
   "metadata": {},
   "outputs": [
    {
     "name": "stdout",
     "output_type": "stream",
     "text": [
      "typing.Union[str, typing.List[ForwardRef('Sexp')]]\n"
     ]
    },
    {
     "data": {
      "text/plain": [
       "['Yield',\n",
       " ['Event.id',\n",
       "  ['singleton',\n",
       "   ['QueryEventResponse.results',\n",
       "    ['FindEventWrapperWithDefaults',\n",
       "     ['Event.attendees_?',\n",
       "      ['AttendeeListHasRecipientConstraint',\n",
       "       ['RecipientWithNameLike',\n",
       "        [['^', ['Recipient'], 'EmptyStructConstraint']],\n",
       "        ['PersonName.apply', '\"janice kang\"']]]]]]]]]"
      ]
     },
     "execution_count": 2,
     "metadata": {},
     "output_type": "execute_result"
    }
   ],
   "source": [
    "utterance: str = \"what is my appointment with janice kang\"\n",
    "lisp_str: str = \"\"\"(Yield\n",
    "  (Event.id\n",
    "    (singleton\n",
    "      (QueryEventResponse.results\n",
    "        (FindEventWrapperWithDefaults\n",
    "          (Event.attendees_?\n",
    "            (AttendeeListHasRecipientConstraint\n",
    "              (RecipientWithNameLike\n",
    "                (^(Recipient) EmptyStructConstraint)\n",
    "                (PersonName.apply \"janice kang\")))))))))\n",
    "\"\"\"\n",
    "lispress = parse_lispress(lisp_str)\n",
    "print(Lispress)\n",
    "check_type('lispress', lispress, Lispress)\n",
    "lispress"
   ]
  },
  {
   "cell_type": "markdown",
   "id": "58ec5c3f",
   "metadata": {},
   "source": [
    "### `render_pretty` and `render_compact` reverse, w/ appropriately formatted string"
   ]
  },
  {
   "cell_type": "code",
   "execution_count": 3,
   "id": "535db5f5",
   "metadata": {},
   "outputs": [
    {
     "name": "stdout",
     "output_type": "stream",
     "text": [
      "(Yield (Event.id (singleton (QueryEventResponse.results (FindEventWrapperWithDefaults (Event.attendees_? (AttendeeListHasRecipientConstraint (RecipientWithNameLike (^(Recipient) EmptyStructConstraint) (PersonName.apply \"janice kang\"))))))))) \n",
      "\n",
      "(Yield\n",
      "  (Event.id\n",
      "    (singleton\n",
      "      (QueryEventResponse.results\n",
      "        (FindEventWrapperWithDefaults\n",
      "          (Event.attendees_?\n",
      "            (AttendeeListHasRecipientConstraint\n",
      "              (RecipientWithNameLike\n",
      "                (^(Recipient) EmptyStructConstraint)\n",
      "                (PersonName.apply \"janice kang\")))))))))\n"
     ]
    }
   ],
   "source": [
    "print(render_compact(lispress), \"\\n\")\n",
    "print(render_pretty(lispress))\n",
    "assert render_pretty(lispress) == lisp_str.strip(), render_pretty(lispress).strip()"
   ]
  },
  {
   "cell_type": "markdown",
   "id": "97c7fcc6",
   "metadata": {},
   "source": [
    "### `lispress_to_program` and `program_to_lispress` convert to and from a `Program` object, \"which is closer to a computation DAG (rather than an abstract syntax tree), and is sometimes more convenient to work with\"."
   ]
  },
  {
   "cell_type": "code",
   "execution_count": 4,
   "id": "3c3cb411",
   "metadata": {},
   "outputs": [
    {
     "name": "stdout",
     "output_type": "stream",
     "text": [
      "Help on function lispress_to_program in module dataflow.core.lispress:\n",
      "\n",
      "lispress_to_program(lispress: Union[str, List[ForwardRef('Sexp')]], idx: int) -> Tuple[dataflow.core.program.Program, int]\n",
      "    Converts Lispress to a Program with ids starting at `idx`.\n",
      "    Returns the last id used along with the Program.\n",
      "\n",
      "Help on class Program in module dataflow.core.program:\n",
      "\n",
      "class Program(builtins.object)\n",
      " |  Program(expressions: List[dataflow.core.program.Expression]) -> None\n",
      " |  \n",
      " |  Program(expressions: List[dataflow.core.program.Expression])\n",
      " |  \n",
      " |  Methods defined here:\n",
      " |  \n",
      " |  __delattr__(self, name)\n",
      " |  \n",
      " |  __eq__(self, other)\n",
      " |  \n",
      " |  __hash__(self)\n",
      " |  \n",
      " |  __init__(self, expressions: List[dataflow.core.program.Expression]) -> None\n",
      " |  \n",
      " |  __repr__(self)\n",
      " |  \n",
      " |  __setattr__(self, name, value)\n",
      " |  \n",
      " |  expressions_by_id = <cached_property.cached_property object>\n",
      " |  ----------------------------------------------------------------------\n",
      " |  Data descriptors defined here:\n",
      " |  \n",
      " |  __dict__\n",
      " |      dictionary for instance variables (if defined)\n",
      " |  \n",
      " |  __weakref__\n",
      " |      list of weak references to the object (if defined)\n",
      " |  \n",
      " |  ----------------------------------------------------------------------\n",
      " |  Data and other attributes defined here:\n",
      " |  \n",
      " |  __annotations__ = {'expressions': typing.List[dataflow.core.program.Ex...\n",
      " |  \n",
      " |  __dataclass_fields__ = {'expressions': Field(name='expressions',type=t...\n",
      " |  \n",
      " |  __dataclass_params__ = _DataclassParams(init=True,repr=True,eq=True,or...\n",
      "\n"
     ]
    }
   ],
   "source": [
    "program, expression_count = lispress_to_program(lispress, 0)\n",
    "help(lispress_to_program)\n",
    "help(Program)"
   ]
  },
  {
   "cell_type": "code",
   "execution_count": 5,
   "id": "61b0c396",
   "metadata": {},
   "outputs": [
    {
     "name": "stdout",
     "output_type": "stream",
     "text": [
      "Expression(id='[1]', op=BuildStructOp(op_schema='EmptyStructConstraint', op_fields=[], empty_base=True, push_go=True), type_args=[Recipient], type=None, arg_ids=[])\n"
     ]
    },
    {
     "data": {
      "text/plain": [
       "(Program(expressions=[Expression(id='[1]', op=BuildStructOp(op_schema='EmptyStructConstraint', op_fields=[], empty_base=True, push_go=True), type_args=[Recipient], type=None, arg_ids=[]), Expression(id='[2]', op=ValueOp(value='{\"schema\": \"String\", \"underlying\": \"janice kang\"}'), type_args=None, type=None, arg_ids=[]), Expression(id='[3]', op=BuildStructOp(op_schema='PersonName.apply', op_fields=[None], empty_base=True, push_go=True), type_args=None, type=None, arg_ids=['[2]']), Expression(id='[4]', op=BuildStructOp(op_schema='RecipientWithNameLike', op_fields=[None, None], empty_base=True, push_go=True), type_args=None, type=None, arg_ids=['[1]', '[3]']), Expression(id='[5]', op=BuildStructOp(op_schema='AttendeeListHasRecipientConstraint', op_fields=[None], empty_base=True, push_go=True), type_args=None, type=None, arg_ids=['[4]']), Expression(id='[6]', op=BuildStructOp(op_schema='Event.attendees_?', op_fields=[None], empty_base=True, push_go=True), type_args=None, type=None, arg_ids=['[5]']), Expression(id='[7]', op=BuildStructOp(op_schema='FindEventWrapperWithDefaults', op_fields=[None], empty_base=True, push_go=True), type_args=None, type=None, arg_ids=['[6]']), Expression(id='[8]', op=BuildStructOp(op_schema='QueryEventResponse.results', op_fields=[None], empty_base=True, push_go=True), type_args=None, type=None, arg_ids=['[7]']), Expression(id='[9]', op=CallLikeOp(name='singleton'), type_args=None, type=None, arg_ids=['[8]']), Expression(id='[10]', op=BuildStructOp(op_schema='Event.id', op_fields=[None], empty_base=True, push_go=True), type_args=None, type=None, arg_ids=['[9]']), Expression(id='[11]', op=BuildStructOp(op_schema='Yield', op_fields=[None], empty_base=True, push_go=True), type_args=None, type=None, arg_ids=['[10]'])]),\n",
       " 11)"
      ]
     },
     "execution_count": 5,
     "metadata": {},
     "output_type": "execute_result"
    }
   ],
   "source": [
    "print(program.expressions_by_id['[1]'])\n",
    "seq_to_program(program_to_seq(program), 0)"
   ]
  },
  {
   "cell_type": "code",
   "execution_count": 6,
   "id": "bfc43bb0",
   "metadata": {},
   "outputs": [],
   "source": [
    "with open('../output/dataflow_dialogues/train.dataflow_dialogues.jsonl', 'r') as f:\n",
    "    example = json.loads(f.readlines()[11])"
   ]
  },
  {
   "cell_type": "markdown",
   "id": "106671c7",
   "metadata": {},
   "source": [
    "## Example Dialogue\n",
    "\n",
    "Dialogues can be read from a JSON file at: `./output/dataflow_dialogues/<split>.dataflow_dialogues.jsonl`\n",
    "\n",
    "Each dialogue is a line in the file. Within a dialogue, a turn is user-agent utterance pair:"
   ]
  },
  {
   "cell_type": "code",
   "execution_count": 7,
   "id": "7c8a4717",
   "metadata": {},
   "outputs": [
    {
     "name": "stdout",
     "output_type": "stream",
     "text": [
      "Turn 0: User: What time is my appointment with Jerri Skinner on Friday?\n",
      "       Agent: I didn't find any events with Jerri Skinner.\n",
      "Turn 1: User: Can you add an appointment with Jerri Skinner at 9 am?\n",
      "       Agent: Is this good?\n",
      "Turn 2: User: I need it to last 2 hours.\n",
      "       Agent: How's this?\n",
      "Turn 3: User: good, thanks.\n",
      "       Agent: I've put that on your calendar.\n"
     ]
    }
   ],
   "source": [
    "for i, t in enumerate(example['turns']):\n",
    "    print(f\"Turn {i}: User: {t['user_utterance']['original_text']}\\n       Agent: {t['agent_utterance']['original_text']}\")\n",
    "    "
   ]
  },
  {
   "cell_type": "markdown",
   "id": "6f0e1173",
   "metadata": {},
   "source": [
    "Each dialogue has an un-typed parse and a fully typed parse. If I understand right, the sequence to sequence model learns the untyped parse as the typed on can be inferrred deterministically using a \"Hindley-Milner like\" type-inference algorithm (This algorithm requires a *fully specified **library:*** the set of functions supported by the system the agent converses over).\n",
    "\n",
    "Their existing code **does not support** execution of a program with a library (though their structure suggests there is a deterministic process for this). It is unclear if that process is proprietary, or if there are existing systems (e.g. lisp compilers) that could handle this trivially, given a fully specified library.\n",
    "\n",
    "Even in their current representation, they do not support implementation of a function (a library is a set of signatures).\n",
    "\n",
    "For specifics, a library is a `Dict[str, Definition]` where keys are function names and definitions are function signatures, described here:\n",
    "\n",
    "```\n",
    "class Definition:\n",
    "    \"\"\"A function signature. For example,\n",
    "    Definition(\"foo\", [\"T\"], [(\"arg1\", TypeName(\"Long\")), (\"arg2\", TypeName(\"T\"))], TypeName(\"Double\"))\n",
    "    would be\n",
    "\n",
    "    T = TypeVar(\"T\")\n",
    "    def foo(arg1: Long, arg2: T) -> Double:\n",
    "        pass\n",
    "\n",
    "    in Python, and\n",
    "\n",
    "    (def ^(T) foo (^Long arg1 ^T arg2) ^Double ???)\n",
    "\n",
    "    in Lispress. The ??? is the \"body\" of the def, much like `pass` in Python.\n",
    "    It's slightly easier there's always a body because that's where return\n",
    "    type annotations live right now.\n",
    "\n",
    "    This class is currently only used in type_inference.py, but we might use\n",
    "    it elsewhere too.\"\"\"\n",
    "\n",
    "    name: str\n",
    "    type_params: List[str]\n",
    "    params: List[Tuple[str, TypeName]]\n",
    "    return_type: TypeName\n",
    "```"
   ]
  },
  {
   "cell_type": "markdown",
   "id": "921dec65",
   "metadata": {},
   "source": [
    "### Semantic Parse Details:\n",
    "\n",
    "Here are the details of the above dialogue's semantic parse:"
   ]
  },
  {
   "cell_type": "code",
   "execution_count": 8,
   "id": "9e40c25c",
   "metadata": {},
   "outputs": [
    {
     "name": "stdout",
     "output_type": "stream",
     "text": [
      "Turn 0: \n",
      "User: What time is my appointment with Jerri Skinner on Friday?\n",
      "Agent: I didn't find any events with Jerri Skinner.\n",
      "lispress: (Yield\n",
      "  (Event.start\n",
      "    (singleton\n",
      "      (QueryEventResponse.results\n",
      "        (FindEventWrapperWithDefaults\n",
      "          (EventOnDate\n",
      "            (NextDOW (Friday))\n",
      "            (Event.attendees_?\n",
      "              (AttendeeListHasRecipientConstraint\n",
      "                (RecipientWithNameLike\n",
      "                  (^(Recipient) EmptyStructConstraint)\n",
      "                  (PersonName.apply \"Jerri Skinner\"))))))))))\n",
      "expansion_lispress: None\n",
      "Turn 1: \n",
      "User: Can you add an appointment with Jerri Skinner at 9 am?\n",
      "Agent: Is this good?\n",
      "lispress: (Yield\n",
      "  (CreateCommitEventWrapper\n",
      "    (CreatePreflightEventWrapper\n",
      "      (&\n",
      "        (Event.start_? (?= (NextTime (NumberAM 9L))))\n",
      "        (Event.attendees_?\n",
      "          (AttendeeListHasRecipient\n",
      "            (Execute\n",
      "              (refer\n",
      "                (extensionConstraint\n",
      "                  (RecipientWithNameLike\n",
      "                    (^(Recipient) EmptyStructConstraint)\n",
      "                    (PersonName.apply \"Jerri Skinner\")))))))))))\n",
      "expansion_lispress: None\n",
      "Turn 2: \n",
      "User: I need it to last 2 hours.\n",
      "Agent: How's this?\n",
      "lispress: (Yield\n",
      "  (Execute\n",
      "    (ReviseConstraint\n",
      "      (refer (^(Dynamic) roleConstraint (Path.apply \"output\")))\n",
      "      (^(Event) ConstraintTypeIntension)\n",
      "      (Event.duration_? (?= (toHours 2))))))\n",
      "expansion_lispress: None\n",
      "Turn 3: \n",
      "User: good, thanks.\n",
      "Agent: I've put that on your calendar.\n",
      "lispress: (Yield (Execute (^(Dynamic) ConfirmAndReturnAction)))\n",
      "expansion_lispress: None\n"
     ]
    }
   ],
   "source": [
    "for i, t in enumerate(example['turns']):\n",
    "    turn_str = (\n",
    "        f\"Turn {i}: \\n\"\n",
    "        f\"User: {t['user_utterance']['original_text']}\\n\"\n",
    "        f\"Agent: {t['agent_utterance']['original_text']}\\n\"\n",
    "        f\"lispress: {render_pretty(parse_lispress(t['lispress']))}\\n\"\n",
    "        f\"expansion_lispress: {render_pretty(parse_lispress(t['expansion_lispress'])) if t['expansion_lispress'] else 'None'}\"\n",
    "    )\n",
    "    print(turn_str)"
   ]
  },
  {
   "cell_type": "markdown",
   "id": "c471476a",
   "metadata": {},
   "source": [
    "# TODO: continue and check out execute_programs.py in MultiWoz section"
   ]
  },
  {
   "cell_type": "markdown",
   "id": "1e0aa39a",
   "metadata": {},
   "source": [
    "## Trying out the model:\n",
    "\n",
    "I was able to replicate their accuracy results, now trying a demo example directly here:"
   ]
  },
  {
   "cell_type": "code",
   "execution_count": 9,
   "id": "0a2ad430",
   "metadata": {},
   "outputs": [
    {
     "name": "stdout",
     "output_type": "stream",
     "text": [
      "onmt_translate --model ../output/models/smcalflow.full.checkpoint_last.pt --max_length 491 --src /tmp/utterance.src_tok --replace_unk --n_best 1 --batch_size 8 --beam_size 10 --gpu 1 --report_time --output /tmp/out.nbest\n"
     ]
    },
    {
     "name": "stderr",
     "output_type": "stream",
     "text": [
      "[2021-12-10 11:04:50,077 INFO] Translating shard 0.\n",
      "/soe/bking2/task_oriented_dialogue_as_dataflow_synthesis/venv/lib/python3.7/site-packages/torchtext/data/field.py:359: UserWarning: To copy construct from a tensor, it is recommended to use sourceTensor.clone().detach() or sourceTensor.clone().detach().requires_grad_(True), rather than torch.tensor(sourceTensor).\n",
      "  var = torch.tensor(arr, dtype=self.dtype, device=device)\n"
     ]
    },
    {
     "name": "stdout",
     "output_type": "stream",
     "text": [
      "PRED AVG SCORE: -0.0082, PRED PPL: 1.0082\n",
      "Total translation time (s): 0.246882\n",
      "Average translation time (s): 0.246882\n",
      "Tokens per second: 153.919859\n",
      "(Yield\n",
      "  :output (singleton\n",
      "    (:results\n",
      "      (FindEventWrapperWithDefaults\n",
      "        :constraint (Constraint[Event]\n",
      "          :attendees (AttendeeListHasRecipientConstraint\n",
      "            :recipientConstraint (RecipientWithNameLike\n",
      "              :constraint (Constraint[Recipient])\n",
      "              :name #(PersonName \" janice kang \"))))))))\n",
      "(Yield\n",
      "  (Event.id\n",
      "    (singleton\n",
      "      (QueryEventResponse.results\n",
      "        (FindEventWrapperWithDefaults\n",
      "          (Event.attendees_?\n",
      "            (AttendeeListHasRecipientConstraint\n",
      "              (RecipientWithNameLike\n",
      "                (^(Recipient) EmptyStructConstraint)\n",
      "                (PersonName.apply \"janice kang\")))))))))\n"
     ]
    }
   ],
   "source": [
    "def simple_infer(utterance: str) -> str:\n",
    "    options = {\"model\": \"../output/models/smcalflow.full.checkpoint_last.pt\", \n",
    "           \"max_length\": 491, \"src\": \"output/onmt_text_data/valid.src_tok\",\n",
    "           \"replace_unk\": True, \"n_best\": 1, \n",
    "           \"batch_size\": 8, \"beam_size\": 10, \"gpu\": 1, \"report_time\": True, \n",
    "           \"output\": \"/tmp/out.nbest\"}\n",
    "    with open(\"/tmp/out.nbest\", \"w\") as f:\n",
    "        # clear result first\n",
    "        f.truncate(0)\n",
    "    with open(\"/tmp/utterance.src_tok\", \"w\") as f:\n",
    "        f.write(utterance)\n",
    "    options['src'] = \"/tmp/utterance.src_tok\"\n",
    "    call: List[str] = [\"onmt_translate\"]\n",
    "    for k, v in options.items():\n",
    "        call.extend([(\"--\" + k), str(v)])\n",
    "        if type(v) == bool:\n",
    "            call.pop() # boolean arguments are just flags, no value for them\n",
    "    print(\" \".join(call))\n",
    "    subprocess.call(call)\n",
    "    with open(\"/tmp/out.nbest\", \"r\") as f:\n",
    "        return parse_lispress(f.read())\n",
    "print(render_pretty(simple_infer(\"what is my appointment with janice kang\")))\n",
    "print(render_pretty(lispress))"
   ]
  },
  {
   "cell_type": "code",
   "execution_count": 10,
   "id": "50bff7cd",
   "metadata": {},
   "outputs": [
    {
     "name": "stdout",
     "output_type": "stream",
     "text": [
      "onmt_translate --model ../output/models/smcalflow.full.checkpoint_last.pt --max_length 491 --src /tmp/utterance.src_tok --replace_unk --n_best 1 --batch_size 8 --beam_size 10 --gpu 1 --report_time --output /tmp/out.nbest\n"
     ]
    },
    {
     "name": "stderr",
     "output_type": "stream",
     "text": [
      "[2021-12-10 11:04:55,200 INFO] Translating shard 0.\n"
     ]
    },
    {
     "name": "stdout",
     "output_type": "stream",
     "text": [
      "PRED AVG SCORE: -0.0088, PRED PPL: 1.0088\n",
      "Total translation time (s): 0.230049\n",
      "Average translation time (s): 0.230049\n",
      "Tokens per second: 160.835207\n"
     ]
    },
    {
     "name": "stderr",
     "output_type": "stream",
     "text": [
      "/soe/bking2/task_oriented_dialogue_as_dataflow_synthesis/venv/lib/python3.7/site-packages/torchtext/data/field.py:359: UserWarning: To copy construct from a tensor, it is recommended to use sourceTensor.clone().detach() or sourceTensor.clone().detach().requires_grad_(True), rather than torch.tensor(sourceTensor).\n",
      "  var = torch.tensor(arr, dtype=self.dtype, device=device)\n"
     ]
    },
    {
     "name": "stdout",
     "output_type": "stream",
     "text": [
      "(Yield\n",
      "  :output (>\n",
      "    (size\n",
      "      (:results\n",
      "        (FindEventWrapperWithDefaults\n",
      "          :constraint (EventOnDateBeforeTime\n",
      "            :date (Today)\n",
      "            :event (Constraint[Event])\n",
      "            :time (Noon)))))\n",
      "    #(Number 0)))\n"
     ]
    }
   ],
   "source": [
    "print(render_pretty(simple_infer(\"do I have any meetings today before 12pm ?\")))\n"
   ]
  },
  {
   "cell_type": "code",
   "execution_count": 11,
   "id": "45b2a92b",
   "metadata": {},
   "outputs": [
    {
     "name": "stdout",
     "output_type": "stream",
     "text": [
      "onmt_translate --model ../output/models/smcalflow.full.checkpoint_last.pt --max_length 491 --src /tmp/utterance.src_tok --replace_unk --n_best 1 --batch_size 8 --beam_size 10 --gpu 1 --report_time --output /tmp/out.nbest\n"
     ]
    },
    {
     "name": "stderr",
     "output_type": "stream",
     "text": [
      "[2021-12-10 11:05:00,165 INFO] Translating shard 0.\n",
      "/soe/bking2/task_oriented_dialogue_as_dataflow_synthesis/venv/lib/python3.7/site-packages/torchtext/data/field.py:359: UserWarning: To copy construct from a tensor, it is recommended to use sourceTensor.clone().detach() or sourceTensor.clone().detach().requires_grad_(True), rather than torch.tensor(sourceTensor).\n",
      "  var = torch.tensor(arr, dtype=self.dtype, device=device)\n"
     ]
    },
    {
     "name": "stdout",
     "output_type": "stream",
     "text": [
      "PRED AVG SCORE: -0.0036, PRED PPL: 1.0036\n",
      "Total translation time (s): 0.496082\n",
      "Average translation time (s): 0.496082\n",
      "Tokens per second: 161.263718\n",
      "(Yield\n",
      "  :output (CreateCommitEventWrapper\n",
      "    :event (CreatePreflightEventWrapper\n",
      "      :constraint (Constraint[Event]\n",
      "        :attendees (AttendeeListHasRecipient\n",
      "          :recipient (Execute\n",
      "            :intension (refer\n",
      "              (extensionConstraint\n",
      "                (RecipientWithNameLike\n",
      "                  :constraint (Constraint[Recipient])\n",
      "                  :name #(PersonName \" Matt \"))))))\n",
      "        :location (?= #(LocationKeyphrase \" 3pm \"))\n",
      "        :start (DateTimeConstraint :constraint (Afternoon) :date (Today))\n",
      "        :subject (?= #(String \" discuss status \"))))))\n"
     ]
    }
   ],
   "source": [
    "simple = \"Can you book a meeting at 3pm this afternoon with Matt to discuss status ?\"\n",
    "my_prediction = \"\"\"\n",
    "(Yield\n",
    "  (CreateCommitEventWrapper\n",
    "    (CreatePreflightEventWrapper\n",
    "      (&\n",
    "        (Event.start_? (?= (NextTime (NumberPM 3L))))\n",
    "        (Event.name_? (?= \"discuss status\"))\n",
    "        (Event.attendees_?\n",
    "          (AttendeeListHasRecipient\n",
    "            (Execute\n",
    "              (refer\n",
    "                (extensionConstraint\n",
    "                  (RecipientWithNameLike\n",
    "                    (^(Recipient) EmptyStructConstraint)\n",
    "                    (PersonName.apply \"Matt\")))))))))))\n",
    "\"\"\"\n",
    "print(render_pretty(simple_infer(simple)))\n"
   ]
  },
  {
   "cell_type": "code",
   "execution_count": null,
   "id": "824ba2d0",
   "metadata": {},
   "outputs": [],
   "source": []
  },
  {
   "cell_type": "code",
   "execution_count": 12,
   "id": "cb36bfc5",
   "metadata": {},
   "outputs": [],
   "source": [
    "## Results from training"
   ]
  }
 ],
 "metadata": {
  "kernelspec": {
   "display_name": "Python 3 (ipykernel)",
   "language": "python",
   "name": "python3"
  },
  "language_info": {
   "codemirror_mode": {
    "name": "ipython",
    "version": 3
   },
   "file_extension": ".py",
   "mimetype": "text/x-python",
   "name": "python",
   "nbconvert_exporter": "python",
   "pygments_lexer": "ipython3",
   "version": "3.7.11"
  }
 },
 "nbformat": 4,
 "nbformat_minor": 5
}
