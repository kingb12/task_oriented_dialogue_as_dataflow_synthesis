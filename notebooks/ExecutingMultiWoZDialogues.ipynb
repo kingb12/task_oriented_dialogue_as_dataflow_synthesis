{
 "cells": [
  {
   "cell_type": "markdown",
   "id": "91fdf891",
   "metadata": {},
   "source": [
    "# Computing With MultiWoZ Dialogues\n",
    "\n",
    "The process for preparing MultiWoZ dialogues in the dataflow format appears to make use of a system for executing dataflow programs within the process. This notebook explores the methods within this to get a better idea of what it would take to actually 'implement' a dialogue with MultiWoZ.\n",
    "\n",
    "## The outcome of processing dialogues\n",
    "\n",
    "Their MultiWoZ processing script takes dialogues in the intent-slot-value format used in the [TRADE paper](https://arxiv.org/abs/1905.08743) (which itself is derived from the MultiWoZ dataset) and creates programs for each dialogue. This can be repeated by running\n",
    "`scripts/multiwoz/download_multiwoz_and_build_dataflow_programs.sh`\n",
    "\n",
    "Below shows an equivalent validation example from pre/post processing"
   ]
  },
  {
   "cell_type": "code",
   "execution_count": 16,
   "id": "ba6c06e2",
   "metadata": {},
   "outputs": [],
   "source": [
    "import json\n",
    "from pprint import pprint\n",
    "from typing import Dict"
   ]
  },
  {
   "cell_type": "code",
   "execution_count": 26,
   "id": "0b62fcd4",
   "metadata": {},
   "outputs": [],
   "source": [
    "RAW_VALID_TRADE_DIALOGUES = \"/scratchdata/bking2/tod_as_df_synthesis/multiwoz/output/trade_dialogues/dev_dials.json\"\n",
    "with open(RAW_VALID_TRADE_DIALOGUES, 'r') as f:\n",
    "    raw_trade_example: Dict = json.loads(f.read())[0]\n",
    "\n",
    "VALID_DATAFLOW_DIALOGUES = \"/scratchdata/bking2/tod_as_df_synthesis/multiwoz/output/dataflow_dialogues/valid.dataflow_dialogues.jsonl\"\n",
    "with open(VALID_DATAFLOW_DIALOGUES, 'r') as f:\n",
    "    dataflow_example: Dict = json.loads(f.readlines(1)[0])\n",
    "\n",
    "# make sure these correspond:\n",
    "trade_utterance = raw_trade_example['dialogue'][0]['transcript']\n",
    "dataflow_utterance = dataflow_example['turns'][0]['user_utterance']['original_text']\n",
    "assert trade_utterance == dataflow_utterance, f\"Trade: {trade_utterance}, Dataflow:{dataflow_utterance}\""
   ]
  },
  {
   "cell_type": "code",
   "execution_count": 27,
   "id": "ebfe57d8",
   "metadata": {},
   "outputs": [
    {
     "name": "stdout",
     "output_type": "stream",
     "text": [
      "{'belief_state': [{'act': 'inform', 'slots': [['hotel-area', 'east']]},\n",
      "                  {'act': 'inform', 'slots': [['hotel-stars', '4']]}],\n",
      " 'domain': 'hotel',\n",
      " 'system_acts': [],\n",
      " 'system_transcript': '',\n",
      " 'transcript': 'i need to book a hotel in the east that has 4 stars .',\n",
      " 'turn_idx': 0,\n",
      " 'turn_label': [['hotel-area', 'east'], ['hotel-stars', '4']]}\n"
     ]
    }
   ],
   "source": [
    "# A single turn in the raw TRADE dialogue\n",
    "pprint(raw_trade_example['dialogue'][0])"
   ]
  },
  {
   "cell_type": "code",
   "execution_count": 28,
   "id": "d2e38055",
   "metadata": {},
   "outputs": [
    {
     "name": "stdout",
     "output_type": "stream",
     "text": [
      "'(find (Constraint[Hotel] :area (?= \"east\") :stars (?= \"4\")))'\n"
     ]
    }
   ],
   "source": [
    "# corresponds to the following program\n",
    "pprint(dataflow_example['turns'][0]['lispress'])"
   ]
  },
  {
   "cell_type": "markdown",
   "id": "cbdbcc7d",
   "metadata": {},
   "source": [
    "## Understanding their processing scripts\n",
    "\n",
    "Their processing script ultimately calls three python modules:\n",
    "\n",
    "### 1) Creating Data in `src/dataflow/multiwoz/trade_dst/create_data.py`\n",
    "\n",
    "```bash\n",
    "python -m dataflow.multiwoz.trade_dst.create_data \\\n",
    "    --use_multiwoz_2_1 \\\n",
    "    --output_dir ${raw_trade_dialogues_dir}\n",
    "```\n",
    "\n",
    "Which enters at: `src.dataflow.multiwoz.trade_dst.create_data.main`, with two sub-calls:\n",
    "- `src.dataflow.multiwoz.trade_dst.create_data.createData`\n",
    "- `src.dataflow.multiwoz.trade_dst.create_data.divideData` (divides into train/valid/test files)\n",
    "\n",
    "#### `src.dataflow.multiwoz.trade_dst.create_data.createData`\n",
    "\n",
    "\n",
    "This takes two arguments: whether to use MultiWoZ 2.1 or 2.0, and where to put data, then it does the following:\n",
    "\n",
    "1. Downloads and unpacks the chosen version of MultiWoZ\n",
    "   - see `src.dataflow.multiwoz.trade_dst.create_data.loadData`\n",
    "2. Normalizes and pre-tokenizes each dialogue (e.g. lowercasing and spacing)\n",
    "   - see `src.dataflow.multiwoz.trade_dst.create_data.createData` after the call to `loadData`\n",
    "   \n",
    "### 2) Patching in `src/dataflow/multiwoz/patch_trade_dialogues.py`\n",
    "\n",
    "Not super important to this analysis, but it accomplishes the following:\n",
    "\n",
    "```python\n",
    "\"\"\"\n",
    "Semantic Machines\\N{TRADE MARK SIGN} software.\n",
    "\n",
    "Patches TRADE-processed dialogues.\n",
    "\n",
    "In TRADE, there are extra steps to fix belief state labels after the data are dumped from `create_data.py`.\n",
    "It makes the evaluation and comparison difficult b/c those label correction and evaluation are embedded in the training\n",
    "code rather than separate CLI scripts.\n",
    "This new script applies the TRADE label corrections (fix_general_label_errors) and re-dumps the dialogues in the same format:\n",
    "\n",
    "NOTE: This only patches the \"belief_state\". Other fields including \"turn_label\" are unchanged. Thus, there can be\n",
    "inconsistency between \"belief_state\" and \"turn_label\".\n",
    "\"\"\"\n",
    "```\n",
    "\n",
    "### 3) Actually converting to programs in `src/dataflow/multiwoz/create_programs.py`\n",
    "\n",
    "Executes via this bash fragment:\n",
    "\n",
    "```bash\n",
    "for subset in \"train\" \"valid\" \"test\"; do\n",
    "    python -m dataflow.multiwoz.create_programs \\\n",
    "        --trade_data_file ${patched_trade_dialogues_dir}/${subset}_dials.json \\\n",
    "        --outbase ${dataflow_dialogues_dir}/${subset}\n",
    "done\n",
    "```\n",
    "\n",
    "The arguments above are pointers to nput and output files, but they also support flags for in-lining operations like `refer` and `revise` as done in some of the paper experiments. Their argument parser provides useful explanations for each.\n",
    "\n",
    "Their `main` function does the following:\n",
    "\n",
    "- instantiate the appropriate salience model (the vanilla model they provide returns the most recent value with a compatible type)\n",
    "  - **IMPORTANT NOTE ON HOW THIS IMPACTS EVALUATION:** because this salience model decides the program for the **gold** reference in training the dialogue model, its error-rate is actually very important, and the evaluation can't fairly evaluate directly on the dataflow synthesis validation set (because it is inherently a simplification of the MultiWoZ ground truth)\n",
    "- For each dialogue, create the programs for it, and save to the output file\n",
    "  - this method is called per processed TRADE dialogue: `src.dataflow.multiwoz.create_programs.create_programs_for_trade_dialogue` (detail below)"
   ]
  },
  {
   "cell_type": "markdown",
   "id": "253f66c8",
   "metadata": {},
   "source": [
    "### Detailed conversion of a single TRADE dialogue to a Dataflow Program\n",
    "\n",
    "TODO"
   ]
  },
  {
   "cell_type": "code",
   "execution_count": null,
   "id": "2cd40a46",
   "metadata": {},
   "outputs": [],
   "source": []
  }
 ],
 "metadata": {
  "kernelspec": {
   "display_name": "Python 3 (ipykernel)",
   "language": "python",
   "name": "python3"
  },
  "language_info": {
   "codemirror_mode": {
    "name": "ipython",
    "version": 3
   },
   "file_extension": ".py",
   "mimetype": "text/x-python",
   "name": "python",
   "nbconvert_exporter": "python",
   "pygments_lexer": "ipython3",
   "version": "3.7.11"
  }
 },
 "nbformat": 4,
 "nbformat_minor": 5
}
